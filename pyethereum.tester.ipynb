{
 "cells": [
  {
   "cell_type": "markdown",
   "metadata": {},
   "source": [
    "# Dev environment"
   ]
  },
  {
   "cell_type": "markdown",
   "metadata": {},
   "source": [
    "## python dev env\n",
    "\n",
    "```\n",
    "$ pyenv virtualenv py3eth\n",
    "$ pyenv activate py3eth\n",
    "```\n",
    "\n",
    "## serpent \n",
    "\n",
    "```\n",
    "$ git clone https://github.com/ethereum/serpent.git\n",
    "$ cd serpent\n",
    "$ python setup.py install\n",
    "```\n",
    "\n",
    "## secp256k1\n",
    "\n",
    "```\n",
    "$ pip install secp256k1\n",
    "```\n",
    "\n",
    "## viper\n",
    "\n",
    "```\n",
    "$ git clone https://github.com/ethereum/viper.git\n",
    "$ cd viper\n",
    "$ python setup.py install\n",
    "```\n",
    "\n",
    "## pyethereum\n",
    "\n",
    "```\n",
    "$ git clone https://github.com/ethereum/pyethereum.git\n",
    "$ cd pyethereum\n",
    "$ git checlout state_revamp\n",
    "$ git submodule update --init --recursive\n",
    "$ python setup.py develop\n",
    "```\n",
    "\n",
    "## pytest\n",
    "\n",
    "```\n",
    "$ pip install pytest\n",
    "```\n",
    "\n",
    "## run test in pyethereum\n",
    "\n",
    "```\n",
    "$ cd ethereum/tests\n",
    "$ pytest --ignore=todo\n",
    "```"
   ]
  },
  {
   "cell_type": "markdown",
   "metadata": {},
   "source": [
    "# Using pyethereum.tester"
   ]
  },
  {
   "cell_type": "code",
   "execution_count": 1,
   "metadata": {
    "collapsed": true
   },
   "outputs": [],
   "source": [
    "import binascii\n",
    "\n",
    "from ethereum.tools import tester as t\n",
    "from ethereum import utils as u"
   ]
  },
  {
   "cell_type": "markdown",
   "metadata": {},
   "source": [
    "## 初始化一條新的鏈"
   ]
  },
  {
   "cell_type": "code",
   "execution_count": 2,
   "metadata": {},
   "outputs": [
    {
     "name": "stdout",
     "output_type": "stream",
     "text": [
      "Initializing chain from provided state\n"
     ]
    }
   ],
   "source": [
    "c = t.Chain()"
   ]
  },
  {
   "cell_type": "markdown",
   "metadata": {},
   "source": [
    "## 以 serpent 寫的合約"
   ]
  },
  {
   "cell_type": "code",
   "execution_count": 3,
   "metadata": {},
   "outputs": [],
   "source": [
    "x = c.contract(\"\"\"\n",
    "def foo(x):\n",
    "    return x + 5\n",
    "\"\"\", language='serpent')"
   ]
  },
  {
   "cell_type": "markdown",
   "metadata": {},
   "source": [
    "## 合約地址"
   ]
  },
  {
   "cell_type": "code",
   "execution_count": 4,
   "metadata": {},
   "outputs": [
    {
     "data": {
      "text/plain": [
       "b'c305c901078781c232a2a521c2af7980f8385ee9'"
      ]
     },
     "execution_count": 4,
     "metadata": {},
     "output_type": "execute_result"
    }
   ],
   "source": [
    "binascii.b2a_hex(x.address)"
   ]
  },
  {
   "cell_type": "markdown",
   "metadata": {},
   "source": [
    "## 呼叫合約"
   ]
  },
  {
   "cell_type": "code",
   "execution_count": 5,
   "metadata": {},
   "outputs": [
    {
     "data": {
      "text/plain": [
       "7"
      ]
     },
     "execution_count": 5,
     "metadata": {},
     "output_type": "execute_result"
    }
   ],
   "source": [
    "x.foo(2)"
   ]
  },
  {
   "cell_type": "markdown",
   "metadata": {},
   "source": [
    "## 取得目前的 blockNumber"
   ]
  },
  {
   "cell_type": "code",
   "execution_count": 6,
   "metadata": {
    "collapsed": true
   },
   "outputs": [],
   "source": [
    "bn = c.head_state.block_number"
   ]
  },
  {
   "cell_type": "markdown",
   "metadata": {},
   "source": [
    "## 挖五個區塊"
   ]
  },
  {
   "cell_type": "code",
   "execution_count": 7,
   "metadata": {},
   "outputs": [
    {
     "name": "stderr",
     "output_type": "stream",
     "text": [
      "INFO:eth.block\tBlock pre-sealed, 91807 gas used \n",
      "INFO:eth.chain\tAdding to head head=c6745cf3cada515bbfb9573261c82547e0b8f9e3d5dd382e464704a84e47b5ad\n",
      "INFO:eth.chain\tAdded block 1 (10f60a1f) with 2 txs and 91807 gas \n",
      "INFO:eth.block_creation\tCreating head candidate \n",
      "INFO:eth.block\tBlock pre-sealed, 0 gas used \n",
      "INFO:eth.block_creation\tCreated head candidate successfully \n",
      "INFO:eth.chain\tAdding to head head=10f60a1faec3db6ff532689ec7daf45316f54ba2b99e73c9217fa599df5a2c66\n",
      "INFO:eth.chain\tAdded block 2 (8f07f0c6) with 0 txs and 0 gas \n",
      "INFO:eth.block_creation\tCreating head candidate \n",
      "INFO:eth.block\tBlock pre-sealed, 0 gas used \n",
      "INFO:eth.block_creation\tCreated head candidate successfully \n",
      "INFO:eth.chain\tAdding to head head=8f07f0c6392e89033509ebf35c21a206e6a34a6685fcc40f8c0f2daef4cff1fa\n",
      "INFO:eth.chain\tAdded block 3 (35a5db2e) with 0 txs and 0 gas \n",
      "INFO:eth.block_creation\tCreating head candidate \n",
      "INFO:eth.block\tBlock pre-sealed, 0 gas used \n",
      "INFO:eth.block_creation\tCreated head candidate successfully \n",
      "INFO:eth.chain\tAdding to head head=35a5db2e3d9259354a835d4f91f236fb05cb39a4512ddb06946a7f4c55d227e7\n",
      "INFO:eth.chain\tAdded block 4 (363fff32) with 0 txs and 0 gas \n",
      "INFO:eth.block_creation\tCreating head candidate \n",
      "INFO:eth.block\tBlock pre-sealed, 0 gas used \n",
      "INFO:eth.block_creation\tCreated head candidate successfully \n",
      "INFO:eth.chain\tAdding to head head=363fff323ce188b0351a47195cdd4fea08dc6adbc9dee1a8638d147ee589bbdb\n",
      "INFO:eth.chain\tAdded block 5 (1adbc7ec) with 0 txs and 0 gas \n"
     ]
    }
   ],
   "source": [
    "c.mine(5)"
   ]
  },
  {
   "cell_type": "markdown",
   "metadata": {},
   "source": [
    "## 第二個合約"
   ]
  },
  {
   "cell_type": "code",
   "execution_count": 8,
   "metadata": {
    "collapsed": true
   },
   "outputs": [],
   "source": [
    "x2 = c.contract(\"\"\"\n",
    "data moose\n",
    "\n",
    "def increment_moose():\n",
    "    self.moose += 1\n",
    "    return self.moose\n",
    "\"\"\", language='serpent')"
   ]
  },
  {
   "cell_type": "markdown",
   "metadata": {},
   "source": [
    "## 呼叫合約"
   ]
  },
  {
   "cell_type": "code",
   "execution_count": 9,
   "metadata": {},
   "outputs": [
    {
     "data": {
      "text/plain": [
       "1"
      ]
     },
     "execution_count": 9,
     "metadata": {},
     "output_type": "execute_result"
    }
   ],
   "source": [
    "x2.increment_moose()"
   ]
  },
  {
   "cell_type": "markdown",
   "metadata": {},
   "source": [
    "## 合約地址"
   ]
  },
  {
   "cell_type": "code",
   "execution_count": 10,
   "metadata": {},
   "outputs": [
    {
     "data": {
      "text/plain": [
       "b'66548b4ad6d6be74bc2dbb53ef8c4df0f7b671b3'"
      ]
     },
     "execution_count": 10,
     "metadata": {},
     "output_type": "execute_result"
    }
   ],
   "source": [
    "binascii.b2a_hex(x2.address)"
   ]
  },
  {
   "cell_type": "markdown",
   "metadata": {},
   "source": [
    "## 查看 tools"
   ]
  },
  {
   "cell_type": "code",
   "execution_count": 11,
   "metadata": {},
   "outputs": [
    {
     "data": {
      "text/plain": [
       "['ABIContract',\n",
       " 'Chain',\n",
       " 'ContractTranslator',\n",
       " 'Env',\n",
       " 'GASPRICE',\n",
       " 'Miner',\n",
       " 'STARTGAS',\n",
       " 'Transaction',\n",
       " 'TransactionFailed',\n",
       " '__builtins__',\n",
       " '__cached__',\n",
       " '__doc__',\n",
       " '__file__',\n",
       " '__loader__',\n",
       " '__name__',\n",
       " '__package__',\n",
       " '__spec__',\n",
       " '_solidity',\n",
       " 'a',\n",
       " 'a0',\n",
       " 'a1',\n",
       " 'a2',\n",
       " 'a3',\n",
       " 'a4',\n",
       " 'a5',\n",
       " 'a6',\n",
       " 'a7',\n",
       " 'a8',\n",
       " 'a9',\n",
       " 'account_number',\n",
       " 'accounts',\n",
       " 'apply_transaction',\n",
       " 'base_alloc',\n",
       " 'big_endian_to_int',\n",
       " 'chain',\n",
       " 'checksum_encode',\n",
       " 'compiler',\n",
       " 'config_homestead',\n",
       " 'config_metropolis',\n",
       " 'config_spurious',\n",
       " 'config_string',\n",
       " 'config_tangerine',\n",
       " 'configure_logging',\n",
       " 'default_config',\n",
       " 'encode_hex',\n",
       " 'get_consensus_strategy',\n",
       " 'get_env',\n",
       " 'get_solidity',\n",
       " 'i',\n",
       " 'int_to_0x_hex',\n",
       " 'int_to_addr',\n",
       " 'int_to_big_endian',\n",
       " 'k0',\n",
       " 'k1',\n",
       " 'k2',\n",
       " 'k3',\n",
       " 'k4',\n",
       " 'k5',\n",
       " 'k6',\n",
       " 'k7',\n",
       " 'k8',\n",
       " 'k9',\n",
       " 'keys',\n",
       " 'languages',\n",
       " 'make_head_candidate',\n",
       " 'minimal_alloc',\n",
       " 'mk_basic_state',\n",
       " 'mk_block_from_prevstate',\n",
       " 'mk_state_test_postfill',\n",
       " 'mk_state_test_prefill',\n",
       " 'privtoaddr',\n",
       " 'rlp',\n",
       " 'serpent',\n",
       " 'set_execution_results',\n",
       " 'sha3',\n",
       " 'to_string',\n",
       " 'types',\n",
       " 'verify_execution_results']"
      ]
     },
     "execution_count": 11,
     "metadata": {},
     "output_type": "execute_result"
    }
   ],
   "source": [
    "dir(t)"
   ]
  },
  {
   "cell_type": "markdown",
   "metadata": {},
   "source": [
    "## 預設帳號 k0-k9"
   ]
  },
  {
   "cell_type": "code",
   "execution_count": 12,
   "metadata": {},
   "outputs": [
    {
     "data": {
      "text/plain": [
       "b'044852b2a670ade5407e78fb2863c51de9fcb96542a07186fe3aeda6bb8a116d'"
      ]
     },
     "execution_count": 12,
     "metadata": {},
     "output_type": "execute_result"
    }
   ],
   "source": [
    "binascii.b2a_hex(t.k0)"
   ]
  },
  {
   "cell_type": "code",
   "execution_count": null,
   "metadata": {
    "collapsed": true
   },
   "outputs": [],
   "source": []
  }
 ],
 "metadata": {
  "kernelspec": {
   "display_name": "Python 3",
   "language": "python",
   "name": "python3"
  },
  "language_info": {
   "codemirror_mode": {
    "name": "ipython",
    "version": 3
   },
   "file_extension": ".py",
   "mimetype": "text/x-python",
   "name": "python",
   "nbconvert_exporter": "python",
   "pygments_lexer": "ipython3",
   "version": "3.6.0"
  }
 },
 "nbformat": 4,
 "nbformat_minor": 2
}
